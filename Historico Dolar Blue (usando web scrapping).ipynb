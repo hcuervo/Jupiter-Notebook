{
 "cells": [
  {
   "cell_type": "code",
   "execution_count": 5,
   "metadata": {},
   "outputs": [],
   "source": [
    "# Importar librerias\n",
    "import requests\n",
    "import datetime\n",
    "import pandas as pd\n",
    "\n",
    "from bs4 import BeautifulSoup # fundamental para scrapping"
   ]
  },
  {
   "cell_type": "code",
   "execution_count": 6,
   "metadata": {},
   "outputs": [],
   "source": [
    "def get_data_blue(): \n",
    "    # Link a la página que contiene la tabla\n",
    "    # Atención: dolar-plus.com entrega algo más de un año de historico\n",
    "    url  = 'https://dolar-plus.com/dolar-blue/historico'\n",
    "    \n",
    "    # Cargar la página\n",
    "    resp = requests.get(url)\n",
    "    \n",
    "    # Interpretar la respuesta\n",
    "    soup = BeautifulSoup(resp.text, \"html.parser\")\n",
    "    \n",
    "    # Crear las columnas del DataFrame\n",
    "    fecha = [str(row.th.string) for row in soup.body.table.tbody.find_all('tr')]\n",
    "    compra = [row.find_all('td')[0].string.strip('$ ') for row in soup.body.table.tbody.find_all('tr')]\n",
    "    venta = [row.find_all('td')[1].string.strip('$ ') for row in soup.body.table.tbody.find_all('tr')]\n",
    "\n",
    "    # Crear el DataFrame\n",
    "    data = zip(compra,venta)\n",
    "    df = pd.DataFrame(data=data,columns=['compra','venta'],index=fecha)\n",
    "    df.index = df.index.rename('fecha')\n",
    "    \n",
    "    # Convertir columnas datetime para fecha y float para compra y venta\n",
    "    df.index = pd.to_datetime(df.index,dayfirst=True)\n",
    "    df.compra = df.compra.replace('[\\$,]', '.', regex=True).astype(float)\n",
    "    df.venta = df.venta.replace('[\\$,]', '.', regex=True).astype(float)\n",
    "    df = df.sort_values(by='fecha',ascending=True)\n",
    "    return(df)"
   ]
  },
  {
   "cell_type": "code",
   "execution_count": null,
   "metadata": {},
   "outputs": [],
   "source": []
  },
  {
   "cell_type": "code",
   "execution_count": 7,
   "metadata": {},
   "outputs": [
    {
     "name": "stdout",
     "output_type": "stream",
     "text": [
      "            compra  venta\n",
      "fecha                    \n",
      "2018-12-11    35.5   37.5\n",
      "2019-02-15    37.5   38.5\n",
      "2019-03-01    37.0   39.0\n",
      "2019-03-02    37.0   39.0\n",
      "2019-03-03    37.0   39.0\n",
      "...            ...    ...\n",
      "2020-06-12   116.0  126.0\n",
      "2020-06-13   116.0  126.0\n",
      "2020-06-14   116.0  126.0\n",
      "2020-06-15   116.0  126.0\n",
      "2020-06-16   116.0  126.0\n",
      "\n",
      "[440 rows x 2 columns]\n"
     ]
    },
    {
     "data": {
      "text/plain": [
       "<matplotlib.axes._subplots.AxesSubplot at 0x7fb3d2e46e20>"
      ]
     },
     "execution_count": 7,
     "metadata": {},
     "output_type": "execute_result"
    },
    {
     "data": {
      "image/png": "[encoded data removed]",
      "text/plain": [
       "<Figure size 432x288 with 1 Axes>"
      ]
     },
     "metadata": {
      "needs_background": "light"
     },
     "output_type": "display_data"
    }
   ],
   "source": [
    "data = get_data_blue()\n",
    "print(data)\n",
    "data.plot()"
   ]
  },
  {
   "cell_type": "code",
   "execution_count": null,
   "metadata": {},
   "outputs": [],
   "source": []
  },
  {
   "cell_type": "code",
   "execution_count": null,
   "metadata": {},
   "outputs": [],
   "source": []
  },
  {
   "cell_type": "code",
   "execution_count": null,
   "metadata": {},
   "outputs": [],
   "source": []
  },
  {
   "cell_type": "code",
   "execution_count": null,
   "metadata": {},
   "outputs": [],
   "source": []
  }
 ],
 "metadata": {
  "kernelspec": {
   "display_name": "Python 3",
   "language": "python",
   "name": "python3"
  },
  "language_info": {
   "codemirror_mode": {
    "name": "ipython",
    "version": 3
   },
   "file_extension": ".py",
   "mimetype": "text/x-python",
   "name": "python",
   "nbconvert_exporter": "python",
   "pygments_lexer": "ipython3",
   "version": "3.8.3"
  }
 },
 "nbformat": 4,
 "nbformat_minor": 4
}
